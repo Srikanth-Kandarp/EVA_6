{
  "nbformat": 4,
  "nbformat_minor": 0,
  "metadata": {
    "colab": {
      "name": "Auto_Grad.ipynb",
      "provenance": [],
      "collapsed_sections": []
    },
    "kernelspec": {
      "name": "python3",
      "display_name": "Python 3"
    },
    "language_info": {
      "name": "python"
    }
  },
  "cells": [
    {
      "cell_type": "code",
      "metadata": {
        "colab": {
          "base_uri": "https://localhost:8080/"
        },
        "id": "2PyQHI4-o75C",
        "outputId": "2ed88772-7882-4212-ee5b-46a77b7c6605"
      },
      "source": [
        "import torch \n",
        "\n",
        "x = torch.rand(1,requires_grad=True)\n",
        "print(x) \n",
        "y = x+2\n",
        "print(y)\n",
        "y = y * y * y\n",
        "y.backward()\n",
        "print(y)\n",
        "\n",
        "\n",
        "\n",
        "\n",
        "\n",
        "\n",
        "\n",
        "\n"
      ],
      "execution_count": 10,
      "outputs": [
        {
          "output_type": "stream",
          "text": [
            "tensor([0.1702], requires_grad=True)\n",
            "tensor([2.1702], grad_fn=<AddBackward0>)\n",
            "tensor([10.2207], grad_fn=<MulBackward0>)\n"
          ],
          "name": "stdout"
        }
      ]
    }
  ]
}